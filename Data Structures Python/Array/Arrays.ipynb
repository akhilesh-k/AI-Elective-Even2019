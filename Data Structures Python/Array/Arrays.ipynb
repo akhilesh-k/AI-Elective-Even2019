{
  "nbformat": 4,
  "nbformat_minor": 0,
  "metadata": {
    "colab": {
      "name": "Arrays.ipynb",
      "version": "0.3.2",
      "provenance": []
    },
    "language_info": {
      "codemirror_mode": {
        "name": "ipython",
        "version": 3
      },
      "file_extension": ".py",
      "mimetype": "text/x-python",
      "name": "python",
      "nbconvert_exporter": "python",
      "pygments_lexer": "ipython3",
      "version": "3.5.2"
    },
    "kernelspec": {
      "display_name": "Python 3",
      "language": "python",
      "name": "python3"
    }
  },
  "cells": [
    {
      "cell_type": "markdown",
      "metadata": {
        "id": "9yu6BSYBZp-m",
        "colab_type": "text"
      },
      "source": [
        "### Artificial Intelligence Elective Course | Even Semester 2019\n",
        "\n",
        "### TA Incharge: Akhilesh Kumar"
      ]
    },
    {
      "cell_type": "markdown",
      "metadata": {
        "id": "CI_-rrZlZp-p",
        "colab_type": "text"
      },
      "source": [
        "# Arrays"
      ]
    },
    {
      "cell_type": "markdown",
      "metadata": {
        "id": "7pOJuUcdZp-r",
        "colab_type": "text"
      },
      "source": [
        "## What is an Array?"
      ]
    },
    {
      "cell_type": "markdown",
      "metadata": {
        "id": "7-cPkHfzZp-s",
        "colab_type": "text"
      },
      "source": [
        "* Array is a data structure used to store homogeneous elements at contiguous locations.\n",
        "* One memory block is allocated for the entire array to hold the elements of the array. The array elements can be accessed in constant time by using the index of the parliculnr element as the subscript."
      ]
    },
    {
      "cell_type": "markdown",
      "metadata": {
        "id": "oikuTqOfZp-t",
        "colab_type": "text"
      },
      "source": [
        "## Properties of Arrays:"
      ]
    },
    {
      "cell_type": "markdown",
      "metadata": {
        "id": "dD1LKk8TZp-u",
        "colab_type": "text"
      },
      "source": [
        "* Arrays stores similar data types. That is, array can hold data of same data type values. This is one of the limitations of arrays compared to other data structures.\n",
        "\n",
        "* Each value stored, in an array, is known as an element and all elements are indexed. The first element added, by default, gets 0 index. That is, the 5th element added gets an index number of 4.\n",
        "\n",
        "* Elements can be retrieved by their index number. (__random access__)\n",
        "\n",
        "* Array elements are stored in contiguous (continuous) memory locations.\n",
        "\n",
        "* One array name can represent multiple values. Array is the easiest way to store a large quantity of data of same data types. For example, to store the salary of 100 employees, it is required to declare 100 variables. But with arrays, with one array name all the 100 employees salaries can be stored.\n",
        "\n",
        "* At the time of creation itself, array size should be declared (array initialization does not require size)."
      ]
    },
    {
      "cell_type": "markdown",
      "metadata": {
        "id": "xKlLUgkpZp-v",
        "colab_type": "text"
      },
      "source": [
        "## Arrays in Python:"
      ]
    },
    {
      "cell_type": "markdown",
      "metadata": {
        "id": "FA6r0qPJZp-x",
        "colab_type": "text"
      },
      "source": [
        "Python does not have a native support for arrays, but has a more generic data structure called LIST. List provides all the options as array with more functionality.\n",
        "But with few tweaks we can implement Array data structure in Python.\n",
        "We will be seeing how to do this."
      ]
    },
    {
      "cell_type": "markdown",
      "metadata": {
        "id": "4nLc3xbNZp-z",
        "colab_type": "text"
      },
      "source": [
        "### Creating an array:"
      ]
    },
    {
      "cell_type": "code",
      "metadata": {
        "id": "3GSz4W-aZp-0",
        "colab_type": "code",
        "colab": {},
        "outputId": "8857eeff-f82d-45be-e589-c6e777ed1d40"
      },
      "source": [
        "class Array(object):\n",
        "    ''' sizeOfArray: denotes the total size of the array to be initialized\n",
        "       arrayType: denotes the data type of the array(as all the elements of the array have same data type)\n",
        "       arrayItems: values at each position of array\n",
        "    '''\n",
        "    def __init__(self, sizeOfArray, arrayType = int):\n",
        "        self.sizeOfArray = len(list(map(arrayType, range(sizeOfArray))))\n",
        "        self.arrayItems =[arrayType(0)] * sizeOfArray    # initialize array with zeroes\n",
        "        \n",
        "    def __str__(self):\n",
        "            return ' '.join([str(i) for i in self.arrayItems])\n",
        "            \n",
        "    # function for search\n",
        "    def search(self, keyToSearch):\n",
        "        for i in range(self.sizeOfArray):\n",
        "            if (self.arrayItems[i] == keyToSearch):    # brute-forcing\n",
        "                return i     # index at which element/ key was found\n",
        "            \n",
        "        return -1          # if key not found, return -1\n",
        "    \n",
        "    # function for inserting an element\n",
        "    def insert(self, keyToInsert, position):\n",
        "        if(self.sizeOfArray > position):\n",
        "            for i in range(self.sizeOfArray - 2, position - 1, -1):\n",
        "                self.arrayItems[i + 1] = self.arrayItems[i]\n",
        "            self.arrayItems[position] = keyToInsert\n",
        "        else:\n",
        "            print('Array size is:', self.sizeOfArray)\n",
        "            \n",
        "    # function to delete an element\n",
        "    def delete(self, keyToDelete, position):\n",
        "        if(self.sizeOfArray > position):\n",
        "            for i in range(position, self.sizeOfArray - 1):\n",
        "                self.arrayItems[i] = self.arrayItems[i + 1]\n",
        "        else:\n",
        "            print('Array size is:', self.sizeOfArray)\n",
        "    \n",
        "a = Array(10, int)\n",
        "print(a)"
      ],
      "execution_count": 0,
      "outputs": [
        {
          "output_type": "stream",
          "text": [
            "0 0 0 0 0 0 0 0 0 0\n"
          ],
          "name": "stdout"
        }
      ]
    },
    {
      "cell_type": "markdown",
      "metadata": {
        "id": "DdIUiQNJZp-9",
        "colab_type": "text"
      },
      "source": [
        "### Common array operations:"
      ]
    },
    {
      "cell_type": "markdown",
      "metadata": {
        "id": "hE4VfeDVZp--",
        "colab_type": "text"
      },
      "source": [
        "* Search\n",
        "* Insert\n",
        "* Delete\n",
        "\n",
        "__Time complexity__:\n",
        "\n",
        "* Search: O(n)\n",
        "* Insert: O(n)\n",
        "* Delete: O(n)\n",
        "* Indexing: O(1)"
      ]
    },
    {
      "cell_type": "markdown",
      "metadata": {
        "id": "RmjtcZQFZp-_",
        "colab_type": "text"
      },
      "source": [
        "### Search Operation on Array:"
      ]
    },
    {
      "cell_type": "code",
      "metadata": {
        "id": "H7LByZT1Zp_C",
        "colab_type": "code",
        "colab": {},
        "outputId": "521755e2-1b5e-46aa-8a8e-e4a49c374da0"
      },
      "source": [
        "a = Array(10, int)\n",
        "index = a.search(0)\n",
        "print('Element found at:', index)"
      ],
      "execution_count": 0,
      "outputs": [
        {
          "output_type": "stream",
          "text": [
            "Element found at: 0\n"
          ],
          "name": "stdout"
        }
      ]
    },
    {
      "cell_type": "markdown",
      "metadata": {
        "collapsed": true,
        "id": "xnok08ZUZp_G",
        "colab_type": "text"
      },
      "source": [
        "### Insert Operation:"
      ]
    },
    {
      "cell_type": "code",
      "metadata": {
        "id": "hw2JL8mNZp_H",
        "colab_type": "code",
        "colab": {},
        "outputId": "35666a87-46df-4ca9-c4e0-fa4962d0cbf1"
      },
      "source": [
        "a = Array(10, int)\n",
        "a.insert(1, 2)\n",
        "a.insert(2,3)\n",
        "a.insert(3,4)\n",
        "print(a)"
      ],
      "execution_count": 0,
      "outputs": [
        {
          "output_type": "stream",
          "text": [
            "0 0 1 2 3 0 0 0 0 0\n"
          ],
          "name": "stdout"
        }
      ]
    },
    {
      "cell_type": "markdown",
      "metadata": {
        "id": "pzwwkfa-Zp_M",
        "colab_type": "text"
      },
      "source": [
        "### Delete Operation:"
      ]
    },
    {
      "cell_type": "code",
      "metadata": {
        "id": "q8o8xTPSZp_N",
        "colab_type": "code",
        "colab": {},
        "outputId": "98610011-4f42-4290-8a24-62f6fc807441"
      },
      "source": [
        "a = Array(10, int)\n",
        "a.insert(1, 2)\n",
        "a.insert(2,3)\n",
        "a.insert(3,4)\n",
        "a.delete(3, 4)\n",
        "print(a)\n",
        "index = a.search(1)\n",
        "print('Element found at:',index)"
      ],
      "execution_count": 0,
      "outputs": [
        {
          "output_type": "stream",
          "text": [
            "0 0 1 2 0 0 0 0 0 0\n",
            "Element found at: 2\n"
          ],
          "name": "stdout"
        }
      ]
    },
    {
      "cell_type": "markdown",
      "metadata": {
        "id": "Ce2xyY4jZp_V",
        "colab_type": "text"
      },
      "source": [
        "#### These were the basics of how to implement Array using Python. Now we will see how to use Python built-in module 'array'.\n",
        "\n"
      ]
    },
    {
      "cell_type": "markdown",
      "metadata": {
        "id": "3I7FCvyOZp_W",
        "colab_type": "text"
      },
      "source": [
        "Syntax: array(dataType, valueList)"
      ]
    },
    {
      "cell_type": "code",
      "metadata": {
        "id": "vQuCWfjnZp_X",
        "colab_type": "code",
        "colab": {},
        "outputId": "c321ee74-0d12-417b-a849-f2b7afe9f671"
      },
      "source": [
        "# importing 'array' module \n",
        "import array\n",
        "\n",
        "# initializing array\n",
        "arr = array.array('i', [1, 2, 3, 4, 5])     # initialize array with integers ('i')\n",
        "\n",
        "# printing original array\n",
        "print (\"The new created array is : \",end=\"\")\n",
        "for i in range (0, 5):\n",
        "    print (arr[i], end=\" \")\n",
        "\n",
        "# using append() to insert new value at end\n",
        "arr.append(6);\n",
        "\n",
        "# printing appended array\n",
        "print (\"\\nThe appended array is : \", end=\"\")\n",
        "for i in range (0, 6):\n",
        "    print (arr[i], end=\" \")\n",
        "\n",
        "# using insert() to insert value at specific position\n",
        "# inserts 5 at 2nd position\n",
        "arr.insert(2, 5)\n",
        "\n",
        "# printing array after insertion\n",
        "print (\"\\nThe array after insertion is : \", end=\"\")\n",
        "for i in range (0, 7):\n",
        "    print (arr[i], end=\" \")\n",
        "    \n",
        "arr.remove(1)\n",
        "\n",
        "# deleting a  value from array\n",
        "print (\"\\nThe array after deletion is : \", end=\"\")\n",
        "for i in range (0, 6):\n",
        "    print (arr[i], end=\" \")\n"
      ],
      "execution_count": 0,
      "outputs": [
        {
          "output_type": "stream",
          "text": [
            "The new created array is : 1 2 3 4 5 \n",
            "The appended array is : 1 2 3 4 5 6 \n",
            "The array after insertion is : 1 2 5 3 4 5 6 \n",
            "The array after deletion is : 2 5 3 4 5 6 "
          ],
          "name": "stdout"
        }
      ]
    },
    {
      "cell_type": "markdown",
      "metadata": {
        "id": "nTolKUCyZp_c",
        "colab_type": "text"
      },
      "source": [
        "### Disadvantages of Array"
      ]
    },
    {
      "cell_type": "markdown",
      "metadata": {
        "id": "iWZULl7rZp_d",
        "colab_type": "text"
      },
      "source": [
        "* __Fixed size__: The size of the array is static (specify the array size before using it, this can be overcome using Dynamic Arrays).\n",
        "* __One block allocation__: To allocate the array itself at the beginning, sometimes it may not be possible to get the memory for the complete array (if the array size is big).\n",
        "* __Complex position-based insertion__: To insert an element at a given position, we may need to shift the existing elements. This will create a position for us to insert the new element at the desired position. If the position at which we want to add an element is at the beginning, then the shifting operation is more expensive ."
      ]
    }
  ]
}